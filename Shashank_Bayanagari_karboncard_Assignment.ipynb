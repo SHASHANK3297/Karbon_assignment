{
 "cells": [
  {
   "cell_type": "code",
   "execution_count": 1,
   "metadata": {},
   "outputs": [],
   "source": [
    "import numpy as np\n",
    "import pandas as pd"
   ]
  },
  {
   "cell_type": "markdown",
   "metadata": {},
   "source": [
    "### 1) Given matrix of positive floating point numbers dataset and perform two operations as below"
   ]
  },
  {
   "cell_type": "code",
   "execution_count": 2,
   "metadata": {},
   "outputs": [],
   "source": [
    "a=[[1, 2, 'o'],\n",
    "['o', 1, 1],\n",
    "[5, 6, 5]]\n",
    "df= pd.DataFrame(a, columns = ['a','b','c']) # Initialise pandas dataframe with the data provided"
   ]
  },
  {
   "cell_type": "markdown",
   "metadata": {},
   "source": [
    "#### 1.1 Replace each o with the mean of the non-zero values in its column"
   ]
  },
  {
   "cell_type": "code",
   "execution_count": 3,
   "metadata": {},
   "outputs": [
    {
     "data": {
      "text/html": [
       "<div>\n",
       "<style scoped>\n",
       "    .dataframe tbody tr th:only-of-type {\n",
       "        vertical-align: middle;\n",
       "    }\n",
       "\n",
       "    .dataframe tbody tr th {\n",
       "        vertical-align: top;\n",
       "    }\n",
       "\n",
       "    .dataframe thead th {\n",
       "        text-align: right;\n",
       "    }\n",
       "</style>\n",
       "<table border=\"1\" class=\"dataframe\">\n",
       "  <thead>\n",
       "    <tr style=\"text-align: right;\">\n",
       "      <th></th>\n",
       "      <th>a</th>\n",
       "      <th>b</th>\n",
       "      <th>c</th>\n",
       "    </tr>\n",
       "  </thead>\n",
       "  <tbody>\n",
       "    <tr>\n",
       "      <th>0</th>\n",
       "      <td>1.0</td>\n",
       "      <td>2</td>\n",
       "      <td>3.0</td>\n",
       "    </tr>\n",
       "    <tr>\n",
       "      <th>1</th>\n",
       "      <td>3.0</td>\n",
       "      <td>1</td>\n",
       "      <td>1.0</td>\n",
       "    </tr>\n",
       "    <tr>\n",
       "      <th>2</th>\n",
       "      <td>5.0</td>\n",
       "      <td>6</td>\n",
       "      <td>5.0</td>\n",
       "    </tr>\n",
       "  </tbody>\n",
       "</table>\n",
       "</div>"
      ],
      "text/plain": [
       "     a  b    c\n",
       "0  1.0  2  3.0\n",
       "1  3.0  1  1.0\n",
       "2  5.0  6  5.0"
      ]
     },
     "execution_count": 3,
     "metadata": {},
     "output_type": "execute_result"
    }
   ],
   "source": [
    "df.replace({'o':np.nan}, inplace = True) # First step is to convert 'o' to nan's\n",
    "df.fillna(df.mean(), inplace=True) # Fill nan's with mean of that respective column\n",
    "df"
   ]
  },
  {
   "cell_type": "markdown",
   "metadata": {},
   "source": [
    "#### 1.2 Normalize the matrix with mean 0 and variance 1"
   ]
  },
  {
   "cell_type": "code",
   "execution_count": 4,
   "metadata": {},
   "outputs": [
    {
     "data": {
      "text/html": [
       "<div>\n",
       "<style scoped>\n",
       "    .dataframe tbody tr th:only-of-type {\n",
       "        vertical-align: middle;\n",
       "    }\n",
       "\n",
       "    .dataframe tbody tr th {\n",
       "        vertical-align: top;\n",
       "    }\n",
       "\n",
       "    .dataframe thead th {\n",
       "        text-align: right;\n",
       "    }\n",
       "</style>\n",
       "<table border=\"1\" class=\"dataframe\">\n",
       "  <thead>\n",
       "    <tr style=\"text-align: right;\">\n",
       "      <th></th>\n",
       "      <th>a</th>\n",
       "      <th>b</th>\n",
       "      <th>c</th>\n",
       "    </tr>\n",
       "  </thead>\n",
       "  <tbody>\n",
       "    <tr>\n",
       "      <th>0</th>\n",
       "      <td>-1.2247448714</td>\n",
       "      <td>-0.4629100499</td>\n",
       "      <td>0.0000000000</td>\n",
       "    </tr>\n",
       "    <tr>\n",
       "      <th>1</th>\n",
       "      <td>0.0000000000</td>\n",
       "      <td>-0.9258200998</td>\n",
       "      <td>-1.2247448714</td>\n",
       "    </tr>\n",
       "    <tr>\n",
       "      <th>2</th>\n",
       "      <td>1.2247448714</td>\n",
       "      <td>1.3887301497</td>\n",
       "      <td>1.2247448714</td>\n",
       "    </tr>\n",
       "  </tbody>\n",
       "</table>\n",
       "</div>"
      ],
      "text/plain": [
       "              a             b             c\n",
       "0 -1.2247448714 -0.4629100499  0.0000000000\n",
       "1  0.0000000000 -0.9258200998 -1.2247448714\n",
       "2  1.2247448714  1.3887301497  1.2247448714"
      ]
     },
     "execution_count": 4,
     "metadata": {},
     "output_type": "execute_result"
    }
   ],
   "source": [
    "pd.set_option('display.float_format', '{:.10f}'.format) # To display more decimal points\n",
    "normalized_df=(df-df.mean())/np.std(df) # std_normalisation = (x-mean)/std_dev\n",
    "normalized_df"
   ]
  },
  {
   "cell_type": "markdown",
   "metadata": {},
   "source": [
    "."
   ]
  },
  {
   "cell_type": "markdown",
   "metadata": {},
   "source": [
    "### 2) Function that takes in the jsonData and corrects the problem explained with rules defined."
   ]
  },
  {
   "cell_type": "code",
   "execution_count": 5,
   "metadata": {},
   "outputs": [],
   "source": [
    "import string\n",
    "def correct_data(json_data):\n",
    "    json_data = eval(json_data) # Used to convert String data to respective data types\n",
    "    result = []\n",
    "    for data in json_data:\n",
    "        #Below line ignores punctuations and case sensitives.\n",
    "        desc_words = data['description'].translate(str.maketrans('', '', string.punctuation)).lower().split()\n",
    "        result_data = None\n",
    "        for i in range(len(desc_words)):\n",
    "            # Logic defined as per rule explained in problem.\n",
    "            if (desc_words[i] == 'studio' or desc_words[i] == '1-bedroom') and (desc_words[i-1] == 'yoga' or desc_words[i-1] == 'dance' or desc_words[i-1] == 'art'):\n",
    "                pass\n",
    "            elif desc_words[i] == 'studio':\n",
    "                result_data = 0\n",
    "                break\n",
    "            elif desc_words[i] == '1-bedroom':\n",
    "                result_data = 1\n",
    "                break\n",
    "        if result_data is None: \n",
    "            result_data = int(data['num_bedrooms'])\n",
    "        result.append(result_data)\n",
    "    return result"
   ]
  },
  {
   "cell_type": "markdown",
   "metadata": {},
   "source": [
    "#### Added '\\ in the parameter for clear display of data passed"
   ]
  },
  {
   "cell_type": "code",
   "execution_count": 6,
   "metadata": {},
   "outputs": [
    {
     "data": {
      "text/plain": [
       "[0, 1, 1, 0]"
      ]
     },
     "execution_count": 6,
     "metadata": {},
     "output_type": "execute_result"
    }
   ],
   "source": [
    "correct_data('['\\\n",
    "'{'\\\n",
    "'\"id\": \"1\",'\\\n",
    "'\"agent\": \"Radulf Katlego\",'\\\n",
    "'\"unit\": \"#3\",'\\\n",
    "'\"description\": \"This luxurious studio apartment is in the heart of downtown.\",'\\\n",
    "'\"num_bedrooms\": 1'\\\n",
    "'},'\\\n",
    "'{'\\\n",
    "'\"id\": \"2\",'\\\n",
    "'\"agent\": \"Kelemen Konrad\",'\\\n",
    "'\"unit\": \"#36\",'\\\n",
    "'\"description\": \"We have a 1-bedroom available on the third floor.\",'\\\n",
    "'\"num_bedrooms\": 1'\\\n",
    "'},'\\\n",
    "'{'\\\n",
    "'\"id\": \"3\",'\\\n",
    "'\"agent\": \"Ton Jett\",'\\\n",
    "'\"unit\": \"#12\",'\\\n",
    "'\"description\": \"Beautiful 1-bedroom apartment with nearby yoga studio.\",'\\\n",
    "'\"num_bedrooms\": 1'\\\n",
    "'},'\\\n",
    "'{'\\\n",
    "'\"id\": \"4\",'\\\n",
    "'\"agent\": \"Fishel Salman\",'\\\n",
    "'\"unit\": \"#13\",'\\\n",
    "'\"description\": \"Beautiful studio with a nearby art studio.\",'\\\n",
    "'\"num_bedrooms\": 1'\\\n",
    "'}'\\\n",
    "']')"
   ]
  },
  {
   "cell_type": "code",
   "execution_count": null,
   "metadata": {},
   "outputs": [],
   "source": []
  }
 ],
 "metadata": {
  "kernelspec": {
   "display_name": "Python 3",
   "language": "python",
   "name": "python3"
  },
  "language_info": {
   "codemirror_mode": {
    "name": "ipython",
    "version": 3
   },
   "file_extension": ".py",
   "mimetype": "text/x-python",
   "name": "python",
   "nbconvert_exporter": "python",
   "pygments_lexer": "ipython3",
   "version": "3.8.5"
  }
 },
 "nbformat": 4,
 "nbformat_minor": 4
}
